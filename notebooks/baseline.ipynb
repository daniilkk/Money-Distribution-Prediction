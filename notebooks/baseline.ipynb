{
 "cells": [
  {
   "cell_type": "code",
   "execution_count": 4,
   "metadata": {},
   "outputs": [],
   "source": [
    "import numpy as np\n",
    "import pandas as pd\n",
    "import scipy as sp\n",
    "\n",
    "from src.metrics import compute_metrics"
   ]
  },
  {
   "cell_type": "code",
   "execution_count": 5,
   "metadata": {},
   "outputs": [
    {
     "data": {
      "text/html": [
       "<div>\n",
       "<style scoped>\n",
       "    .dataframe tbody tr th:only-of-type {\n",
       "        vertical-align: middle;\n",
       "    }\n",
       "\n",
       "    .dataframe tbody tr th {\n",
       "        vertical-align: top;\n",
       "    }\n",
       "\n",
       "    .dataframe thead th {\n",
       "        text-align: right;\n",
       "    }\n",
       "</style>\n",
       "<table border=\"1\" class=\"dataframe\">\n",
       "  <thead>\n",
       "    <tr style=\"text-align: right;\">\n",
       "      <th></th>\n",
       "      <th>day_of_week</th>\n",
       "      <th>hour0</th>\n",
       "      <th>hour1</th>\n",
       "      <th>hour10</th>\n",
       "      <th>hour11</th>\n",
       "      <th>hour12</th>\n",
       "      <th>hour13</th>\n",
       "      <th>hour14</th>\n",
       "      <th>hour15</th>\n",
       "      <th>hour16</th>\n",
       "      <th>hour17</th>\n",
       "      <th>hour18</th>\n",
       "      <th>hour19</th>\n",
       "      <th>hour2</th>\n",
       "      <th>hour20</th>\n",
       "      <th>...</th>\n",
       "      <th>hour40</th>\n",
       "      <th>hour41</th>\n",
       "      <th>hour42</th>\n",
       "      <th>hour43</th>\n",
       "      <th>hour44</th>\n",
       "      <th>hour45</th>\n",
       "      <th>hour46</th>\n",
       "      <th>hour47</th>\n",
       "      <th>hour5</th>\n",
       "      <th>hour6</th>\n",
       "      <th>hour7</th>\n",
       "      <th>hour8</th>\n",
       "      <th>hour9</th>\n",
       "      <th>hour_of_day</th>\n",
       "      <th>sum_costs</th>\n",
       "    </tr>\n",
       "  </thead>\n",
       "  <tbody>\n",
       "    <tr>\n",
       "      <th>10730</th>\n",
       "      <td>3.0</td>\n",
       "      <td>0.588235</td>\n",
       "      <td>0.058824</td>\n",
       "      <td>0.000000</td>\n",
       "      <td>0.000000</td>\n",
       "      <td>0.0</td>\n",
       "      <td>0.0</td>\n",
       "      <td>0.058824</td>\n",
       "      <td>0.0</td>\n",
       "      <td>0.000000</td>\n",
       "      <td>0.0</td>\n",
       "      <td>0.0</td>\n",
       "      <td>0.0</td>\n",
       "      <td>0.117647</td>\n",
       "      <td>0.0</td>\n",
       "      <td>...</td>\n",
       "      <td>0.0</td>\n",
       "      <td>0.0</td>\n",
       "      <td>0.0</td>\n",
       "      <td>0.0</td>\n",
       "      <td>0.0</td>\n",
       "      <td>0.000000</td>\n",
       "      <td>0.0</td>\n",
       "      <td>0.0</td>\n",
       "      <td>0.0</td>\n",
       "      <td>0.117647</td>\n",
       "      <td>0.000000</td>\n",
       "      <td>0.0</td>\n",
       "      <td>0.0</td>\n",
       "      <td>19.0</td>\n",
       "      <td>6379.661621</td>\n",
       "    </tr>\n",
       "    <tr>\n",
       "      <th>12903</th>\n",
       "      <td>7.0</td>\n",
       "      <td>0.428571</td>\n",
       "      <td>0.428571</td>\n",
       "      <td>0.000000</td>\n",
       "      <td>0.000000</td>\n",
       "      <td>0.0</td>\n",
       "      <td>0.0</td>\n",
       "      <td>0.000000</td>\n",
       "      <td>0.0</td>\n",
       "      <td>0.000000</td>\n",
       "      <td>0.0</td>\n",
       "      <td>0.0</td>\n",
       "      <td>0.0</td>\n",
       "      <td>0.142857</td>\n",
       "      <td>0.0</td>\n",
       "      <td>...</td>\n",
       "      <td>0.0</td>\n",
       "      <td>0.0</td>\n",
       "      <td>0.0</td>\n",
       "      <td>0.0</td>\n",
       "      <td>0.0</td>\n",
       "      <td>0.000000</td>\n",
       "      <td>0.0</td>\n",
       "      <td>0.0</td>\n",
       "      <td>0.0</td>\n",
       "      <td>0.000000</td>\n",
       "      <td>0.000000</td>\n",
       "      <td>0.0</td>\n",
       "      <td>0.0</td>\n",
       "      <td>6.0</td>\n",
       "      <td>1816.676392</td>\n",
       "    </tr>\n",
       "    <tr>\n",
       "      <th>5301</th>\n",
       "      <td>5.0</td>\n",
       "      <td>0.500000</td>\n",
       "      <td>0.000000</td>\n",
       "      <td>0.000000</td>\n",
       "      <td>0.000000</td>\n",
       "      <td>0.0</td>\n",
       "      <td>0.0</td>\n",
       "      <td>0.000000</td>\n",
       "      <td>0.0</td>\n",
       "      <td>0.000000</td>\n",
       "      <td>0.0</td>\n",
       "      <td>0.0</td>\n",
       "      <td>0.0</td>\n",
       "      <td>0.500000</td>\n",
       "      <td>0.0</td>\n",
       "      <td>...</td>\n",
       "      <td>0.0</td>\n",
       "      <td>0.0</td>\n",
       "      <td>0.0</td>\n",
       "      <td>0.0</td>\n",
       "      <td>0.0</td>\n",
       "      <td>0.000000</td>\n",
       "      <td>0.0</td>\n",
       "      <td>0.0</td>\n",
       "      <td>0.0</td>\n",
       "      <td>0.000000</td>\n",
       "      <td>0.000000</td>\n",
       "      <td>0.0</td>\n",
       "      <td>0.0</td>\n",
       "      <td>20.0</td>\n",
       "      <td>254.445618</td>\n",
       "    </tr>\n",
       "    <tr>\n",
       "      <th>2040</th>\n",
       "      <td>6.0</td>\n",
       "      <td>0.142857</td>\n",
       "      <td>0.285714</td>\n",
       "      <td>0.095238</td>\n",
       "      <td>0.047619</td>\n",
       "      <td>0.0</td>\n",
       "      <td>0.0</td>\n",
       "      <td>0.000000</td>\n",
       "      <td>0.0</td>\n",
       "      <td>0.047619</td>\n",
       "      <td>0.0</td>\n",
       "      <td>0.0</td>\n",
       "      <td>0.0</td>\n",
       "      <td>0.095238</td>\n",
       "      <td>0.0</td>\n",
       "      <td>...</td>\n",
       "      <td>0.0</td>\n",
       "      <td>0.0</td>\n",
       "      <td>0.0</td>\n",
       "      <td>0.0</td>\n",
       "      <td>0.0</td>\n",
       "      <td>0.000000</td>\n",
       "      <td>0.0</td>\n",
       "      <td>0.0</td>\n",
       "      <td>0.0</td>\n",
       "      <td>0.000000</td>\n",
       "      <td>0.047619</td>\n",
       "      <td>0.0</td>\n",
       "      <td>0.0</td>\n",
       "      <td>19.0</td>\n",
       "      <td>3122.307129</td>\n",
       "    </tr>\n",
       "    <tr>\n",
       "      <th>11499</th>\n",
       "      <td>3.0</td>\n",
       "      <td>0.333333</td>\n",
       "      <td>0.555556</td>\n",
       "      <td>0.000000</td>\n",
       "      <td>0.000000</td>\n",
       "      <td>0.0</td>\n",
       "      <td>0.0</td>\n",
       "      <td>0.000000</td>\n",
       "      <td>0.0</td>\n",
       "      <td>0.000000</td>\n",
       "      <td>0.0</td>\n",
       "      <td>0.0</td>\n",
       "      <td>0.0</td>\n",
       "      <td>0.055556</td>\n",
       "      <td>0.0</td>\n",
       "      <td>...</td>\n",
       "      <td>0.0</td>\n",
       "      <td>0.0</td>\n",
       "      <td>0.0</td>\n",
       "      <td>0.0</td>\n",
       "      <td>0.0</td>\n",
       "      <td>0.055556</td>\n",
       "      <td>0.0</td>\n",
       "      <td>0.0</td>\n",
       "      <td>0.0</td>\n",
       "      <td>0.000000</td>\n",
       "      <td>0.000000</td>\n",
       "      <td>0.0</td>\n",
       "      <td>0.0</td>\n",
       "      <td>7.0</td>\n",
       "      <td>540.015991</td>\n",
       "    </tr>\n",
       "  </tbody>\n",
       "</table>\n",
       "<p>5 rows × 51 columns</p>\n",
       "</div>"
      ],
      "text/plain": [
       "       day_of_week     hour0     hour1    hour10    hour11  hour12  hour13  \\\n",
       "10730          3.0  0.588235  0.058824  0.000000  0.000000     0.0     0.0   \n",
       "12903          7.0  0.428571  0.428571  0.000000  0.000000     0.0     0.0   \n",
       "5301           5.0  0.500000  0.000000  0.000000  0.000000     0.0     0.0   \n",
       "2040           6.0  0.142857  0.285714  0.095238  0.047619     0.0     0.0   \n",
       "11499          3.0  0.333333  0.555556  0.000000  0.000000     0.0     0.0   \n",
       "\n",
       "         hour14  hour15    hour16  hour17  hour18  hour19     hour2  hour20  \\\n",
       "10730  0.058824     0.0  0.000000     0.0     0.0     0.0  0.117647     0.0   \n",
       "12903  0.000000     0.0  0.000000     0.0     0.0     0.0  0.142857     0.0   \n",
       "5301   0.000000     0.0  0.000000     0.0     0.0     0.0  0.500000     0.0   \n",
       "2040   0.000000     0.0  0.047619     0.0     0.0     0.0  0.095238     0.0   \n",
       "11499  0.000000     0.0  0.000000     0.0     0.0     0.0  0.055556     0.0   \n",
       "\n",
       "       ...  hour40  hour41  hour42  hour43  hour44    hour45  hour46  hour47  \\\n",
       "10730  ...     0.0     0.0     0.0     0.0     0.0  0.000000     0.0     0.0   \n",
       "12903  ...     0.0     0.0     0.0     0.0     0.0  0.000000     0.0     0.0   \n",
       "5301   ...     0.0     0.0     0.0     0.0     0.0  0.000000     0.0     0.0   \n",
       "2040   ...     0.0     0.0     0.0     0.0     0.0  0.000000     0.0     0.0   \n",
       "11499  ...     0.0     0.0     0.0     0.0     0.0  0.055556     0.0     0.0   \n",
       "\n",
       "       hour5     hour6     hour7  hour8  hour9  hour_of_day    sum_costs  \n",
       "10730    0.0  0.117647  0.000000    0.0    0.0         19.0  6379.661621  \n",
       "12903    0.0  0.000000  0.000000    0.0    0.0          6.0  1816.676392  \n",
       "5301     0.0  0.000000  0.000000    0.0    0.0         20.0   254.445618  \n",
       "2040     0.0  0.000000  0.047619    0.0    0.0         19.0  3122.307129  \n",
       "11499    0.0  0.000000  0.000000    0.0    0.0          7.0   540.015991  \n",
       "\n",
       "[5 rows x 51 columns]"
      ]
     },
     "execution_count": 5,
     "metadata": {},
     "output_type": "execute_result"
    }
   ],
   "source": [
    "df = pd.read_csv('data/v3.csv', index_col=0)\n",
    "\n",
    "target_features = ['hour' + str(idx) for idx in range(48)]\n",
    "df = df.astype(np.float32)\n",
    "\n",
    "df[target_features] = df[target_features].divide(df['sum_costs'], axis=0)\n",
    "\n",
    "np.random.seed(48)\n",
    "\n",
    "inds = np.arange(df.shape[0])\n",
    "np.random.shuffle(inds)\n",
    "\n",
    "df = df.iloc[inds, :]\n",
    "df.head()"
   ]
  },
  {
   "cell_type": "code",
   "execution_count": 6,
   "metadata": {},
   "outputs": [
    {
     "name": "stderr",
     "output_type": "stream",
     "text": [
      "/home/daniilkk/dev/friends/dimon/money_dist_tg/src/metrics.py:14: RuntimeWarning: invalid value encountered in sqrt\n",
      "  return euclidean(np.sqrt(p), np.sqrt(q)) / _SQRT2\n",
      "/home/daniilkk/dev/friends/dimon/money_dist_tg/venv/lib/python3.11/site-packages/sklearn/model_selection/_validation.py:842: UserWarning: Scoring failed. The score on this train-test partition for these parameters will be set to nan. Details: \n",
      "Traceback (most recent call last):\n",
      "  File \"/home/daniilkk/dev/friends/dimon/money_dist_tg/venv/lib/python3.11/site-packages/sklearn/metrics/_scorer.py\", line 140, in __call__\n",
      "    score = scorer(estimator, *args, **routed_params.get(name).score)\n",
      "            ^^^^^^^^^^^^^^^^^^^^^^^^^^^^^^^^^^^^^^^^^^^^^^^^^^^^^^^^^\n",
      "  File \"/tmp/ipykernel_33648/1249626818.py\", line 18, in <lambda>\n",
      "    scoring=lambda estimator, x, y: -compute_metrics(estimator.predict(x), y)['hellinger'],\n",
      "                                     ^^^^^^^^^^^^^^^^^^^^^^^^^^^^^^^^^^^^^^^^\n",
      "  File \"/home/daniilkk/dev/friends/dimon/money_dist_tg/src/metrics.py\", line 23, in compute_metrics\n",
      "    'hellinger': np.mean([hellinger2(predict[i], target[i]) for i in range(predict.shape[0])]),\n",
      "                         ^^^^^^^^^^^^^^^^^^^^^^^^^^^^^^^^^^^^^^^^^^^^^^^^^^^^^^^^^^^^^^^^^^^^\n",
      "  File \"/home/daniilkk/dev/friends/dimon/money_dist_tg/src/metrics.py\", line 23, in <listcomp>\n",
      "    'hellinger': np.mean([hellinger2(predict[i], target[i]) for i in range(predict.shape[0])]),\n",
      "                          ^^^^^^^^^^^^^^^^^^^^^^^^^^^^^^^^^\n",
      "  File \"/home/daniilkk/dev/friends/dimon/money_dist_tg/src/metrics.py\", line 14, in hellinger2\n",
      "    return euclidean(np.sqrt(p), np.sqrt(q)) / _SQRT2\n",
      "           ^^^^^^^^^^^^^^^^^^^^^^^^^^^^^^^^^\n",
      "  File \"/home/daniilkk/dev/friends/dimon/money_dist_tg/venv/lib/python3.11/site-packages/scipy/spatial/distance.py\", line 536, in euclidean\n",
      "    return minkowski(u, v, p=2, w=w)\n",
      "           ^^^^^^^^^^^^^^^^^^^^^^^^^\n",
      "  File \"/home/daniilkk/dev/friends/dimon/money_dist_tg/venv/lib/python3.11/site-packages/scipy/spatial/distance.py\", line 496, in minkowski\n",
      "    dist = norm(u_v, ord=p)\n",
      "           ^^^^^^^^^^^^^^^^\n",
      "  File \"/home/daniilkk/dev/friends/dimon/money_dist_tg/venv/lib/python3.11/site-packages/scipy/linalg/_misc.py\", line 146, in norm\n",
      "    a = np.asarray_chkfinite(a)\n",
      "        ^^^^^^^^^^^^^^^^^^^^^^^\n",
      "  File \"/home/daniilkk/dev/friends/dimon/money_dist_tg/venv/lib/python3.11/site-packages/numpy/lib/function_base.py\", line 628, in asarray_chkfinite\n",
      "    raise ValueError(\n",
      "ValueError: array must not contain infs or NaNs\n",
      "\n",
      "  warnings.warn(\n"
     ]
    },
    {
     "data": {
      "text/plain": [
       "nan"
      ]
     },
     "execution_count": 6,
     "metadata": {},
     "output_type": "execute_result"
    }
   ],
   "source": [
    "from sklearn.linear_model import LinearRegression\n",
    "from sklearn.model_selection import GridSearchCV, cross_val_score\n",
    "\n",
    "from src.data import AdDataset\n",
    "\n",
    "dataset = AdDataset(df)\n",
    "\n",
    "model = LinearRegression()\n",
    "\n",
    "# cv_model = GridSearchCV(\n",
    "#     model,\n",
    "#     scoring=lambda estimator, x, y: -compute_metrics(estimator.predict(x), y)['hellinger'])\n",
    "\n",
    "-cross_val_score(\n",
    "    model,\n",
    "    dataset.x,\n",
    "    dataset.y,\n",
    "    scoring=lambda estimator, x, y: -compute_metrics(estimator.predict(x), y)['hellinger'],\n",
    "    cv=5\n",
    ").mean()\n"
   ]
  },
  {
   "cell_type": "code",
   "execution_count": 7,
   "metadata": {},
   "outputs": [
    {
     "data": {
      "text/html": [
       "<style>#sk-container-id-1 {color: black;}#sk-container-id-1 pre{padding: 0;}#sk-container-id-1 div.sk-toggleable {background-color: white;}#sk-container-id-1 label.sk-toggleable__label {cursor: pointer;display: block;width: 100%;margin-bottom: 0;padding: 0.3em;box-sizing: border-box;text-align: center;}#sk-container-id-1 label.sk-toggleable__label-arrow:before {content: \"▸\";float: left;margin-right: 0.25em;color: #696969;}#sk-container-id-1 label.sk-toggleable__label-arrow:hover:before {color: black;}#sk-container-id-1 div.sk-estimator:hover label.sk-toggleable__label-arrow:before {color: black;}#sk-container-id-1 div.sk-toggleable__content {max-height: 0;max-width: 0;overflow: hidden;text-align: left;background-color: #f0f8ff;}#sk-container-id-1 div.sk-toggleable__content pre {margin: 0.2em;color: black;border-radius: 0.25em;background-color: #f0f8ff;}#sk-container-id-1 input.sk-toggleable__control:checked~div.sk-toggleable__content {max-height: 200px;max-width: 100%;overflow: auto;}#sk-container-id-1 input.sk-toggleable__control:checked~label.sk-toggleable__label-arrow:before {content: \"▾\";}#sk-container-id-1 div.sk-estimator input.sk-toggleable__control:checked~label.sk-toggleable__label {background-color: #d4ebff;}#sk-container-id-1 div.sk-label input.sk-toggleable__control:checked~label.sk-toggleable__label {background-color: #d4ebff;}#sk-container-id-1 input.sk-hidden--visually {border: 0;clip: rect(1px 1px 1px 1px);clip: rect(1px, 1px, 1px, 1px);height: 1px;margin: -1px;overflow: hidden;padding: 0;position: absolute;width: 1px;}#sk-container-id-1 div.sk-estimator {font-family: monospace;background-color: #f0f8ff;border: 1px dotted black;border-radius: 0.25em;box-sizing: border-box;margin-bottom: 0.5em;}#sk-container-id-1 div.sk-estimator:hover {background-color: #d4ebff;}#sk-container-id-1 div.sk-parallel-item::after {content: \"\";width: 100%;border-bottom: 1px solid gray;flex-grow: 1;}#sk-container-id-1 div.sk-label:hover label.sk-toggleable__label {background-color: #d4ebff;}#sk-container-id-1 div.sk-serial::before {content: \"\";position: absolute;border-left: 1px solid gray;box-sizing: border-box;top: 0;bottom: 0;left: 50%;z-index: 0;}#sk-container-id-1 div.sk-serial {display: flex;flex-direction: column;align-items: center;background-color: white;padding-right: 0.2em;padding-left: 0.2em;position: relative;}#sk-container-id-1 div.sk-item {position: relative;z-index: 1;}#sk-container-id-1 div.sk-parallel {display: flex;align-items: stretch;justify-content: center;background-color: white;position: relative;}#sk-container-id-1 div.sk-item::before, #sk-container-id-1 div.sk-parallel-item::before {content: \"\";position: absolute;border-left: 1px solid gray;box-sizing: border-box;top: 0;bottom: 0;left: 50%;z-index: -1;}#sk-container-id-1 div.sk-parallel-item {display: flex;flex-direction: column;z-index: 1;position: relative;background-color: white;}#sk-container-id-1 div.sk-parallel-item:first-child::after {align-self: flex-end;width: 50%;}#sk-container-id-1 div.sk-parallel-item:last-child::after {align-self: flex-start;width: 50%;}#sk-container-id-1 div.sk-parallel-item:only-child::after {width: 0;}#sk-container-id-1 div.sk-dashed-wrapped {border: 1px dashed gray;margin: 0 0.4em 0.5em 0.4em;box-sizing: border-box;padding-bottom: 0.4em;background-color: white;}#sk-container-id-1 div.sk-label label {font-family: monospace;font-weight: bold;display: inline-block;line-height: 1.2em;}#sk-container-id-1 div.sk-label-container {text-align: center;}#sk-container-id-1 div.sk-container {/* jupyter's `normalize.less` sets `[hidden] { display: none; }` but bootstrap.min.css set `[hidden] { display: none !important; }` so we also need the `!important` here to be able to override the default hidden behavior on the sphinx rendered scikit-learn.org. See: https://github.com/scikit-learn/scikit-learn/issues/21755 */display: inline-block !important;position: relative;}#sk-container-id-1 div.sk-text-repr-fallback {display: none;}</style><div id=\"sk-container-id-1\" class=\"sk-top-container\"><div class=\"sk-text-repr-fallback\"><pre>LinearRegression()</pre><b>In a Jupyter environment, please rerun this cell to show the HTML representation or trust the notebook. <br />On GitHub, the HTML representation is unable to render, please try loading this page with nbviewer.org.</b></div><div class=\"sk-container\" hidden><div class=\"sk-item\"><div class=\"sk-estimator sk-toggleable\"><input class=\"sk-toggleable__control sk-hidden--visually\" id=\"sk-estimator-id-1\" type=\"checkbox\" checked><label for=\"sk-estimator-id-1\" class=\"sk-toggleable__label sk-toggleable__label-arrow\">LinearRegression</label><div class=\"sk-toggleable__content\"><pre>LinearRegression()</pre></div></div></div></div></div>"
      ],
      "text/plain": [
       "LinearRegression()"
      ]
     },
     "execution_count": 7,
     "metadata": {},
     "output_type": "execute_result"
    },
    {
     "data": {
      "text/plain": [
       "0.5173424847147792"
      ]
     },
     "execution_count": 7,
     "metadata": {},
     "output_type": "execute_result"
    }
   ],
   "source": [
    "model = LinearRegression()\n",
    "\n",
    "model.fit(dataset.x, dataset.y)\n",
    "\n",
    "compute_metrics(model.predict(dataset.x), dataset.y)['hellinger']"
   ]
  },
  {
   "cell_type": "code",
   "execution_count": 8,
   "metadata": {},
   "outputs": [],
   "source": [
    "full_mean = df.groupby(['day_of_week', 'hour_of_day'])[target_features].mean()\n",
    "full_median = df.groupby(['day_of_week', 'hour_of_day'])[target_features].median()\n",
    "\n",
    "hour_mean = df.groupby(['hour_of_day'])[target_features].mean()\n",
    "hour_median = df.groupby(['hour_of_day'])[target_features].median()"
   ]
  },
  {
   "cell_type": "code",
   "execution_count": 13,
   "metadata": {},
   "outputs": [],
   "source": [
    "def apply_fn(groupby_agg: pd.DataFrame, row):\n",
    "    g1 = groupby_agg.loc[row['day_of_week']]\n",
    "    return g1.loc[row['hour_of_day']] if 'hour_of_day' in g1.index else np.zeros(48)\n",
    "\n",
    "class Asstimator:\n",
    "    def __init__(self, is_full: bool, is_mean: bool):\n",
    "        self.is_full = is_full\n",
    "        # self.by = ['day_of_week', 'hour_of_day'] if is_full else ['hour_of_day']\n",
    "        self.is_mean = is_mean\n",
    "    \n",
    "    def fit(self, x, y):\n",
    "        data = pd.concat((x, y), axis=1)\n",
    "\n",
    "        groupby = data.groupby(by=['day_of_week', 'hour_of_day'] if self.is_full else ['hour_of_day'])[target_features]\n",
    "\n",
    "        self.groupby_agg = groupby.mean() if self.is_mean else groupby.median()\n",
    "\n",
    "    def predict(self, x):\n",
    "        if self.is_full:\n",
    "            \n",
    "            return x.apply(lambda row: apply_fn(self.groupby_agg, row), axis=1)\n",
    "            # return x.apply(lambda row: self.groupby_agg.loc[row['day_of_week']].loc[row['hour_of_day']], axis=1)\n",
    "        else:\n",
    "            return x.apply(lambda row: self.groupby_agg.loc[row['hour_of_day']], axis=1)\n"
   ]
  },
  {
   "cell_type": "code",
   "execution_count": 10,
   "metadata": {},
   "outputs": [],
   "source": [
    "# full_mean.loc[1.0].loc[22.0].to_numpy()\n",
    "\n",
    "full_mean_pred = df.apply(lambda row: full_mean.loc[row['day_of_week']].loc[row['hour_of_day']], axis=1)\n",
    "full_median_pred = df.apply(lambda row: full_median.loc[row['day_of_week']].loc[row['hour_of_day']], axis=1)\n",
    "\n",
    "hour_mean_pred = df.apply(lambda row: hour_mean.loc[row['hour_of_day']], axis=1)\n",
    "hour_median_pred = df.apply(lambda row: hour_median.loc[row['hour_of_day']], axis=1)"
   ]
  },
  {
   "cell_type": "code",
   "execution_count": 11,
   "metadata": {},
   "outputs": [],
   "source": [
    "from copy import deepcopy\n",
    "\n",
    "def cv_score(estimator, x, y, n_folds):\n",
    "    # df = pd.concat((x, y), axis=1)\n",
    "    x_folds = np.array_split(x, n_folds)\n",
    "    y_folds = np.array_split(y, n_folds)\n",
    "    \n",
    "    scores = []\n",
    "\n",
    "    for idx, (x_val, y_val) in enumerate(zip(x_folds, y_folds)):\n",
    "        print(f'CV fold {idx}')\n",
    "        x_train = pd.concat([fold for fold in x_folds if fold is not x_val])\n",
    "        y_train = pd.concat([fold for fold in y_folds if fold is not y_val])\n",
    "\n",
    "        est = deepcopy(estimator)\n",
    "        est.fit(x_train, y_train)\n",
    "        pred = est.predict(x_val)\n",
    "\n",
    "        score = compute_metrics(pred.to_numpy(), y_val.to_numpy())[\"hellinger\"]\n",
    "        scores.append(score)\n",
    "    \n",
    "    return np.array(scores)"
   ]
  },
  {
   "cell_type": "code",
   "execution_count": 14,
   "metadata": {},
   "outputs": [
    {
     "name": "stderr",
     "output_type": "stream",
     "text": [
      "/home/daniilkk/dev/friends/dimon/money_dist_tg/venv/lib/python3.11/site-packages/numpy/core/fromnumeric.py:57: FutureWarning: 'DataFrame.swapaxes' is deprecated and will be removed in a future version. Please use 'DataFrame.transpose' instead.\n",
      "  return bound(*args, **kwds)\n"
     ]
    },
    {
     "name": "stdout",
     "output_type": "stream",
     "text": [
      "CV fold 0\n",
      "CV fold 1\n",
      "CV fold 2\n",
      "CV fold 3\n",
      "CV fold 4\n"
     ]
    },
    {
     "name": "stderr",
     "output_type": "stream",
     "text": [
      "/home/daniilkk/dev/friends/dimon/money_dist_tg/venv/lib/python3.11/site-packages/numpy/core/fromnumeric.py:57: FutureWarning: 'DataFrame.swapaxes' is deprecated and will be removed in a future version. Please use 'DataFrame.transpose' instead.\n",
      "  return bound(*args, **kwds)\n"
     ]
    },
    {
     "name": "stdout",
     "output_type": "stream",
     "text": [
      "CV fold 0\n",
      "CV fold 1\n",
      "CV fold 2\n",
      "CV fold 3\n",
      "CV fold 4\n"
     ]
    },
    {
     "name": "stderr",
     "output_type": "stream",
     "text": [
      "/home/daniilkk/dev/friends/dimon/money_dist_tg/venv/lib/python3.11/site-packages/numpy/core/fromnumeric.py:57: FutureWarning: 'DataFrame.swapaxes' is deprecated and will be removed in a future version. Please use 'DataFrame.transpose' instead.\n",
      "  return bound(*args, **kwds)\n"
     ]
    },
    {
     "name": "stdout",
     "output_type": "stream",
     "text": [
      "CV fold 0\n",
      "CV fold 1\n",
      "CV fold 2\n",
      "CV fold 3\n",
      "CV fold 4\n"
     ]
    },
    {
     "name": "stderr",
     "output_type": "stream",
     "text": [
      "/home/daniilkk/dev/friends/dimon/money_dist_tg/venv/lib/python3.11/site-packages/numpy/core/fromnumeric.py:57: FutureWarning: 'DataFrame.swapaxes' is deprecated and will be removed in a future version. Please use 'DataFrame.transpose' instead.\n",
      "  return bound(*args, **kwds)\n"
     ]
    },
    {
     "name": "stdout",
     "output_type": "stream",
     "text": [
      "CV fold 0\n",
      "CV fold 1\n",
      "CV fold 2\n",
      "CV fold 3\n",
      "CV fold 4\n",
      "full_mean_pred: 0.707\n",
      "full_median_pred: 0.707\n",
      "hour_mean_pred: 0.514\n",
      "hour_median_pred: 0.467\n"
     ]
    }
   ],
   "source": [
    "x_features = ['day_of_week', 'hour_of_day']\n",
    "\n",
    "# for seed in range(10000):\n",
    "#     print(seed)\n",
    "#     # SEED = 38\n",
    "#     try: \n",
    "np.random.seed(42)\n",
    "inds = np.arange(df.shape[0])\n",
    "np.random.shuffle(inds)\n",
    "df = df.iloc[inds, :]\n",
    "\n",
    "full_mean_pred = cv_score(Asstimator(True, True), df[x_features], df[target_features], n_folds=5).mean()\n",
    "full_median_pred = cv_score(Asstimator(True, False), df[x_features], df[target_features], n_folds=5).mean()\n",
    "hour_mean_pred = cv_score(Asstimator(False, True), df[x_features], df[target_features], n_folds=5).mean()\n",
    "hour_median_pred = cv_score(Asstimator(False, False), df[x_features], df[target_features], n_folds=5).mean()\n",
    "\n",
    "print(f'full_mean_pred: {full_mean_pred:.3f}')\n",
    "print(f'full_median_pred: {full_median_pred:.3f}')\n",
    "print(f'hour_mean_pred: {hour_mean_pred:.3f}')\n",
    "print(f'hour_median_pred: {hour_median_pred:.3f}')\n",
    "    # except:\n",
    "    #     continue\n"
   ]
  },
  {
   "cell_type": "code",
   "execution_count": 27,
   "metadata": {},
   "outputs": [
    {
     "data": {
      "text/plain": [
       "array([  26,   32,   35,   37,   52,   91,  103,  124,  127,  443,  529,\n",
       "        645,  713,  722,  735,  783,  789,  810,  823,  861, 1051, 1423,\n",
       "       1642, 1720])"
      ]
     },
     "execution_count": 27,
     "metadata": {},
     "output_type": "execute_result"
    },
    {
     "data": {
      "text/plain": [
       "<Axes: >"
      ]
     },
     "execution_count": 27,
     "metadata": {},
     "output_type": "execute_result"
    },
    {
     "data": {
      "image/png": "[encoded data removed]",
      "text/plain": [
       "<Figure size 640x480 with 1 Axes>"
      ]
     },
     "metadata": {},
     "output_type": "display_data"
    }
   ],
   "source": [
    "df.groupby('hour_of_day')['hour0'].count().reset_index()['hour0'].sort_values().head(30).to_numpy()\n",
    "\n",
    "df.groupby('hour_of_day')['hour0'].count().reset_index()['hour0'].hist()\n"
   ]
  },
  {
   "cell_type": "code",
   "execution_count": 30,
   "metadata": {},
   "outputs": [],
   "source": [
    "hour_mean.to_excel('experiments/hour_mean.xlsx')"
   ]
  }
 ],
 "metadata": {
  "kernelspec": {
   "display_name": "venv",
   "language": "python",
   "name": "python3"
  },
  "language_info": {
   "codemirror_mode": {
    "name": "ipython",
    "version": 3
   },
   "file_extension": ".py",
   "mimetype": "text/x-python",
   "name": "python",
   "nbconvert_exporter": "python",
   "pygments_lexer": "ipython3",
   "version": "3.11.5"
  },
  "orig_nbformat": 4
 },
 "nbformat": 4,
 "nbformat_minor": 2
}
